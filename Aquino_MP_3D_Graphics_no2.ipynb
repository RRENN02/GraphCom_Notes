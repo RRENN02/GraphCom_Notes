{
 "cells": [
  {
   "cell_type": "markdown",
   "metadata": {},
   "source": [
    "## MP 3D GRAPHICS IN PYTHON\n",
    "    Name: Nathaniel Ken A. Aquino\n",
    "    Section: 4CSC\n",
    "----"
   ]
  },
  {
   "cell_type": "code",
   "execution_count": 6,
   "metadata": {},
   "outputs": [],
   "source": [
    "# Imports\n",
    "import numpy as np\n",
    "import matplotlib.pyplot as plt\n",
    "from mpl_toolkits.mplot3d import Axes3D\n",
    "from mpl_toolkits.mplot3d.art3d import Poly3DCollection"
   ]
  },
  {
   "cell_type": "markdown",
   "metadata": {},
   "source": [
    "2. Find the distance of the following: \\\n",
    "    ```a. X to Y and```\\\n",
    "    ```b. X to Z ```\n",
    "\n",
    "    Where X(2, 3, 6), Y(7, 8, 9), and Z (2, 9, 4)."
   ]
  },
  {
   "cell_type": "code",
   "execution_count": 7,
   "metadata": {},
   "outputs": [
    {
     "name": "stdout",
     "output_type": "stream",
     "text": [
      "Distance from X to Y: 7.681145747868608\n",
      "Distance from X to Z: 6.324555320336759\n"
     ]
    }
   ],
   "source": [
    "# Find the distance of the following: a. X to Y and (b) X to Z where X(2, 3, 6), Y(7, 8, 9), and Z (2, 9, 4).\n",
    "# Define the points\n",
    "X = np.array([2, 3, 6])\n",
    "Y = np.array([7, 8, 9])\n",
    "Z = np.array([2, 9, 4])\n",
    "\n",
    "# Calculate the distances\n",
    "distance_XY = np.linalg.norm(X - Y)\n",
    "distance_XZ = np.linalg.norm(X - Z)\n",
    "\n",
    "# Print the distances\n",
    "print(f\"Distance from X to Y: {distance_XY}\")\n",
    "print(f\"Distance from X to Z: {distance_XZ}\")"
   ]
  },
  {
   "cell_type": "markdown",
   "metadata": {},
   "source": [
    "----"
   ]
  }
 ],
 "metadata": {
  "kernelspec": {
   "display_name": "Python 3",
   "language": "python",
   "name": "python3"
  },
  "language_info": {
   "codemirror_mode": {
    "name": "ipython",
    "version": 3
   },
   "file_extension": ".py",
   "mimetype": "text/x-python",
   "name": "python",
   "nbconvert_exporter": "python",
   "pygments_lexer": "ipython3",
   "version": "3.12.0"
  }
 },
 "nbformat": 4,
 "nbformat_minor": 2
}
